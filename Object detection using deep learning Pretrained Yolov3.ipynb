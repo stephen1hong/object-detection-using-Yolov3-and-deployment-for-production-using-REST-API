{
 "cells": [
  {
   "cell_type": "code",
   "execution_count": 1,
   "metadata": {},
   "outputs": [],
   "source": [
    "# Object detection using deep learning pretrained ResNet model\n",
    "# Reference: python deep learning projects, M. Lamons, R. Kumar, A. Nagaraja"
   ]
  },
  {
   "cell_type": "code",
   "execution_count": 2,
   "metadata": {},
   "outputs": [
    {
     "name": "stderr",
     "output_type": "stream",
     "text": [
      "Using TensorFlow backend.\n"
     ]
    }
   ],
   "source": [
    "from imageai.Detection import ObjectDetection"
   ]
  },
  {
   "cell_type": "code",
   "execution_count": 3,
   "metadata": {},
   "outputs": [],
   "source": [
    "import os\n",
    "model_path = os.getcwd()"
   ]
  },
  {
   "cell_type": "code",
   "execution_count": 4,
   "metadata": {},
   "outputs": [],
   "source": [
    "# create the instance for ObjectDetection object and set the model type as RestinaNet()"
   ]
  },
  {
   "cell_type": "code",
   "execution_count": 5,
   "metadata": {},
   "outputs": [],
   "source": [
    "object_detector =ObjectDetection()"
   ]
  },
  {
   "cell_type": "code",
   "execution_count": 6,
   "metadata": {},
   "outputs": [
    {
     "data": {
      "text/plain": [
       "['CustomObjects',\n",
       " '_ObjectDetection__input_image_max',\n",
       " '_ObjectDetection__input_image_min',\n",
       " '_ObjectDetection__modelLoaded',\n",
       " '_ObjectDetection__modelPathAdded',\n",
       " '_ObjectDetection__modelType',\n",
       " '_ObjectDetection__model_collection',\n",
       " '_ObjectDetection__tiny_yolo_anchors',\n",
       " '_ObjectDetection__yolo_anchors',\n",
       " '_ObjectDetection__yolo_boxes',\n",
       " '_ObjectDetection__yolo_classes',\n",
       " '_ObjectDetection__yolo_iou',\n",
       " '_ObjectDetection__yolo_model_image_size',\n",
       " '_ObjectDetection__yolo_score',\n",
       " '_ObjectDetection__yolo_scores',\n",
       " '__class__',\n",
       " '__delattr__',\n",
       " '__dict__',\n",
       " '__dir__',\n",
       " '__doc__',\n",
       " '__eq__',\n",
       " '__format__',\n",
       " '__ge__',\n",
       " '__getattribute__',\n",
       " '__gt__',\n",
       " '__hash__',\n",
       " '__init__',\n",
       " '__le__',\n",
       " '__lt__',\n",
       " '__module__',\n",
       " '__ne__',\n",
       " '__new__',\n",
       " '__reduce__',\n",
       " '__reduce_ex__',\n",
       " '__repr__',\n",
       " '__setattr__',\n",
       " '__sizeof__',\n",
       " '__str__',\n",
       " '__subclasshook__',\n",
       " '__weakref__',\n",
       " 'detectCustomObjectsFromImage',\n",
       " 'detectObjectsFromImage',\n",
       " 'loadModel',\n",
       " 'modelPath',\n",
       " 'numbers_to_names',\n",
       " 'sess',\n",
       " 'setModelPath',\n",
       " 'setModelTypeAsRetinaNet',\n",
       " 'setModelTypeAsTinyYOLOv3',\n",
       " 'setModelTypeAsYOLOv3']"
      ]
     },
     "execution_count": 6,
     "metadata": {},
     "output_type": "execute_result"
    }
   ],
   "source": [
    "dir(object_detector)"
   ]
  },
  {
   "cell_type": "code",
   "execution_count": 7,
   "metadata": {},
   "outputs": [],
   "source": [
    "object_detector.setModelTypeAsYOLOv3()\n",
    "object_detector.setModelPath(os.path.join(model_path, \"yolo.h5\"))"
   ]
  },
  {
   "cell_type": "code",
   "execution_count": 8,
   "metadata": {},
   "outputs": [],
   "source": [
    "object_detector.loadModel()"
   ]
  },
  {
   "cell_type": "code",
   "execution_count": 10,
   "metadata": {},
   "outputs": [],
   "source": [
    "#: **Step 2**: feed new images to the model for detection. The result return the image with bounding box coordinates of the detected object, \n",
    "# the label of the detected object and the confidence score for the detected object."
   ]
  },
  {
   "cell_type": "code",
   "execution_count": 13,
   "metadata": {},
   "outputs": [],
   "source": [
    "#input images to the model\n",
    "object_detections = object_detector.detectObjectsFromImage(\n",
    "    input_image=os.path.join(model_path, \"panda.jpg\"), \n",
    "    output_image_path =os.path.join(model_path, \"pandanew.jpg\"))"
   ]
  },
  {
   "cell_type": "code",
   "execution_count": 15,
   "metadata": {},
   "outputs": [],
   "source": [
    "object_detections = object_detector.detectObjectsFromImage(\n",
    "    input_image=os.path.join(model_path, \"space_shuttle2.jpg\"), \n",
    "    output_image_path =os.path.join(model_path, \"space_shuttle2_new.jpg\"))"
   ]
  },
  {
   "cell_type": "code",
   "execution_count": 22,
   "metadata": {},
   "outputs": [],
   "source": [
    "object_detections = object_detector.detectObjectsFromImage(\n",
    "    input_image=os.path.join(model_path, \"people_umbrella.jpg\"), \n",
    "    output_image_path =os.path.join(model_path, \"people_umbrella_new.jpg\"))"
   ]
  },
  {
   "cell_type": "code",
   "execution_count": 23,
   "metadata": {},
   "outputs": [
    {
     "name": "stdout",
     "output_type": "stream",
     "text": [
      "chair : 53.73316407203674\n",
      "chair : 53.95810008049011\n",
      "chair : 57.69957900047302\n",
      "chair : 60.347217321395874\n",
      "chair : 72.98941612243652\n",
      "chair : 88.22356462478638\n",
      "umbrella : 51.12640857696533\n",
      "umbrella : 55.20812273025513\n",
      "umbrella : 65.43806195259094\n",
      "umbrella : 73.77821803092957\n",
      "umbrella : 84.84390377998352\n",
      "person : 50.194984674453735\n",
      "person : 53.750377893447876\n",
      "person : 60.59526205062866\n",
      "person : 68.5836911201477\n",
      "person : 99.81217980384827\n"
     ]
    }
   ],
   "source": [
    "for eachObject in object_detections:\n",
    "    print (eachObject[\"name\"], \":\", eachObject[\"percentage_probability\"])"
   ]
  },
  {
   "cell_type": "code",
   "execution_count": 25,
   "metadata": {},
   "outputs": [],
   "source": [
    "object_detections = object_detector.detectObjectsFromImage(\n",
    "    input_image=os.path.join(model_path, \"beach-ride-horse-dog_1000.jpg\"), \n",
    "    output_image_path =os.path.join(model_path, \"beach-ride-horse-dog_1000_new.jpg\"))"
   ]
  },
  {
   "cell_type": "code",
   "execution_count": 26,
   "metadata": {},
   "outputs": [
    {
     "name": "stdout",
     "output_type": "stream",
     "text": [
      "horse : 99.59568977355957\n",
      "dog : 99.55354928970337\n",
      "person : 99.98350143432617\n"
     ]
    }
   ],
   "source": [
    "for eachObject in object_detections:\n",
    "    print (eachObject[\"name\"], \":\", eachObject[\"percentage_probability\"])"
   ]
  }
 ],
 "metadata": {
  "kernelspec": {
   "display_name": "Python 3",
   "language": "python",
   "name": "python3"
  },
  "language_info": {
   "codemirror_mode": {
    "name": "ipython",
    "version": 3
   },
   "file_extension": ".py",
   "mimetype": "text/x-python",
   "name": "python",
   "nbconvert_exporter": "python",
   "pygments_lexer": "ipython3",
   "version": "3.5.2"
  }
 },
 "nbformat": 4,
 "nbformat_minor": 2
}
